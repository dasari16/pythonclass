{
 "cells": [
  {
   "cell_type": "code",
   "execution_count": 7,
   "metadata": {},
   "outputs": [
    {
     "name": "stdout",
     "output_type": "stream",
     "text": [
      "3199,3199,3199,3199,3199,3199,3199,3199,3199,3199,3199,3199,3199,3199,3199,3199,3199,3199,3199,3199,3199,3199,3199,3199,3199,3199,3199,3199,3199,3199,3199,3199,3199,3199,3199,3199,3199,3199,3199,3199,3199,3199,3199,3199,3199,3199,3199,3199,3199,3199,3199,3199,3199,3199,3199,3199,3199,3199,3199,3199,3199,3199,3199,3199,3199,3199,3199,3199,3199,3199,3199,3199,3199,3199,3199,3199,3199,3199,3199,3199,3199,3199,3199,3199,3199,3199,3199,3199,3199,3199,3199,3199,3199,3199,3199,3199,3199,3199,3199,3199,3199,3199,3199,3199,3199,3199,3199,3199,3199,3199,3199,3199,3199,3199,3199,3199,3199,3199,3199,3199,3199,3199,3199,3199,3199,3199,3199,3199,3199,3199,3199,3199,3199,3199,3199,3199,3199,3199\n"
     ]
    }
   ],
   "source": [
    "divisiblenumbers=[]\n",
    "for divisor in range(2000, 3200):\n",
    "    if (divisor%7==0) and (divisor%5!=0):\n",
    "        divisiblenumbers.append(str(x))\n",
    "print (','.join(divisiblenumbers))"
   ]
  },
  {
   "cell_type": "code",
   "execution_count": 5,
   "metadata": {},
   "outputs": [
    {
     "name": "stdout",
     "output_type": "stream",
     "text": [
      "Enter your First name: abc\n",
      "Enter your Last name: bcd\n",
      "Your name is  ('abc', ' ', 'bcd')\n",
      "bcd abc\n"
     ]
    }
   ],
   "source": [
    "fname = input(\"Enter your First name: \")\n",
    "lname = input(\"Enter your Last name: \")\n",
    "name = fname,\" \",lname\n",
    "print(\"Your name is \",name)\n",
    "reverseName = ''.join(reversed(name))\n",
    "print(reverseName)"
   ]
  },
  {
   "cell_type": "code",
   "execution_count": 23,
   "metadata": {},
   "outputs": [
    {
     "name": "stdout",
     "output_type": "stream",
     "text": [
      "The radius 6.0\n",
      "904.7786842338603\n"
     ]
    }
   ],
   "source": [
    "import math\n",
    "\n",
    "diameter=12\n",
    "radius = diameter/2\n",
    "print(\"The radius \"+ str(radius))\n",
    "sphere = 4/3 * (math.pi) * (radius ** 3)\n",
    "print(sphere)"
   ]
  },
  {
   "cell_type": "code",
   "execution_count": 12,
   "metadata": {},
   "outputs": [
    {
     "name": "stdout",
     "output_type": "stream",
     "text": [
      "Enter comma separated numbers: 1,2\n",
      "Input string:  1,2\n",
      "<class 'str'>\n",
      "<class 'list'>\n",
      "Generating a  <class 'list'> ['1', '2']\n"
     ]
    }
   ],
   "source": [
    "# input comma separated elements as string \n",
    "numbers = input (\"Enter comma separated numbers: \")\n",
    "print (\"Input string: \", numbers)\n",
    "print(type(numbers))\n",
    "\n",
    "convertlist= []\n",
    "convertlist = numbers.split(',')\n",
    "print(type(convertlist))\n",
    "print(\"Generating a \", type(convertlist) , convertlist)"
   ]
  },
  {
   "cell_type": "code",
   "execution_count": null,
   "metadata": {},
   "outputs": [],
   "source": [
    "stars = int(input(\"Enter max star to be display on single line \"))\n",
    "for i in range(0, stars):\n",
    "    #print(\"Value of i\",i)\n",
    "    for j in range(0, i + 1):\n",
    "        print(\"*\", end=' ')\n",
    "        #print(\"Value of j\",j)\n",
    "    print(\"\\r\")\n",
    "\n",
    "for i in range(stars, 0, -1):\n",
    "    for j in range(0, i - 1):\n",
    "        print(\"*\", end=' ')\n",
    "    print(\"\\r\")"
   ]
  },
  {
   "cell_type": "code",
   "execution_count": null,
   "metadata": {},
   "outputs": [],
   "source": [
    "name = input(\"Enter the name: \")\n",
    "print(\"Entered name is \",name)\n",
    "reverseName = ''.join(reversed(name))\n",
    "print(reverseName)"
   ]
  },
  {
   "cell_type": "code",
   "execution_count": null,
   "metadata": {},
   "outputs": [],
   "source": [
    "print(\"WE, THE PEOPLE OF INDIA,\\n\\t having solemnly resolved to constitute India into a SOVEREIGN, !\\n\\t\\tSOCIALIST, SECULAR, DEMOCRATIC REPUBLIC\\n\\t\\tand to secure to all its citizens\")"
   ]
  },
  {
   "cell_type": "code",
   "execution_count": null,
   "metadata": {},
   "outputs": [],
   "source": []
  }
 ],
 "metadata": {
  "kernelspec": {
   "display_name": "Python 3",
   "language": "python",
   "name": "python3"
  },
  "language_info": {
   "codemirror_mode": {
    "name": "ipython",
    "version": 3
   },
   "file_extension": ".py",
   "mimetype": "text/x-python",
   "name": "python",
   "nbconvert_exporter": "python",
   "pygments_lexer": "ipython3",
   "version": "3.7.4"
  }
 },
 "nbformat": 4,
 "nbformat_minor": 2
}
